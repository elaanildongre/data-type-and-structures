{
  "nbformat": 4,
  "nbformat_minor": 0,
  "metadata": {
    "colab": {
      "provenance": []
    },
    "kernelspec": {
      "name": "python3",
      "display_name": "Python 3"
    },
    "language_info": {
      "name": "python"
    }
  },
  "cells": [
    {
      "cell_type": "markdown",
      "source": [
        "01. What are data structures, and why are they important?"
      ],
      "metadata": {
        "id": "cQjm-byRjbfZ"
      }
    },
    {
      "cell_type": "markdown",
      "source": [
        "Data structures are specialized formats for organizing, storing, and accessing collections of data.\n",
        "Choosing right data structure will enhance the efficiency and performance of the program. It optimize the searching and sorting operations and conserve the memory."
      ],
      "metadata": {
        "id": "sVonEF0sjbUc"
      }
    },
    {
      "cell_type": "markdown",
      "source": [
        "0.2 Explain the difference between mutable and immutable data types with examples?\n",
        "\n",
        "mutable data types like list, dictionaries can be modified after creation.\n",
        "\n",
        "Immutable data types can not be modified after they are  created for example set, tuple ."
      ],
      "metadata": {
        "id": "IH09IRSblOE-"
      }
    },
    {
      "cell_type": "markdown",
      "source": [
        "3. What are the main differences between lists and tuples in Python?\n",
        "\n",
        "lists are mutable where as tuples are immutable.\n"
      ],
      "metadata": {
        "id": "ug8jCJ_ZmMZx"
      }
    },
    {
      "cell_type": "markdown",
      "source": [
        "4.  Describe how dictionaries store data.\n",
        "\n",
        "dictionaries store data as key-value pairs."
      ],
      "metadata": {
        "id": "ePBY4BuMmMWc"
      }
    },
    {
      "cell_type": "markdown",
      "source": [
        "5. Why might you use a set instead of a list in Python?\n",
        "\n",
        "  set removes the duplicate value and provide faster test results than  lists."
      ],
      "metadata": {
        "id": "qMkXGkLfmMUW"
      }
    },
    {
      "cell_type": "markdown",
      "source": [
        "6. What is a string in Python, and how is it different from a list?\n",
        "\n",
        "   String is a immutable sequence of chatracters, where as list is a mutable sequence of elements.\n"
      ],
      "metadata": {
        "id": "PEuw0Xw_mMRq"
      }
    },
    {
      "cell_type": "markdown",
      "source": [
        "7. How do tuples ensure data integrity in Python?\n",
        "  \n",
        "   As tuples are immutable they prevent the modification of data."
      ],
      "metadata": {
        "id": "jTyl3xUMmMO2"
      }
    },
    {
      "cell_type": "markdown",
      "source": [
        "8. What is a hash table, and how does it relate to dictionaries in Python?\n",
        "\n",
        "   It maps key value to function using a hash function.\n",
        "   python dictionaries are implimented using the hash table"
      ],
      "metadata": {
        "id": "m7aCQsmNomlm"
      }
    },
    {
      "cell_type": "markdown",
      "source": [
        "9. Can lists contain different data types in Python?\n",
        "   \n",
        "   Yes."
      ],
      "metadata": {
        "id": "EF92haSGomiL"
      }
    },
    {
      "cell_type": "markdown",
      "source": [
        "10. Explain why strings are immutable in Python?\n",
        "\n",
        "    "
      ],
      "metadata": {
        "id": "2MKV8PWxomfn"
      }
    },
    {
      "cell_type": "markdown",
      "source": [
        "as hash value of the strings remain constant they are immutable."
      ],
      "metadata": {
        "id": "x_vncreqlQH4"
      }
    },
    {
      "cell_type": "markdown",
      "source": [
        "11. What advantages do dictionaries offer over lists for certain tasks?\n",
        "    \n",
        "    "
      ],
      "metadata": {
        "id": "0h2ENm7womdM"
      }
    },
    {
      "cell_type": "markdown",
      "source": [
        "dictionaries offer facilities like fast lookups, key - value assosciations and complex data maping.\n",
        "\n",
        "while list suitable for sequential processing, ordered  collections and simple storage"
      ],
      "metadata": {
        "id": "BYK5FKPKlTTx"
      }
    },
    {
      "cell_type": "markdown",
      "source": [
        "12.  Describe a scenario where using a tuple would be preferable over a list.\n",
        "     \n",
        "     when we want the date to remain constant .  when the data shold not be alterd."
      ],
      "metadata": {
        "id": "I33VlKEBomas"
      }
    },
    {
      "cell_type": "markdown",
      "source": [
        "13.  How do sets handle duplicate values in Python?\n",
        "     \n",
        "     It automatically removes the duplicate value."
      ],
      "metadata": {
        "id": "s9t5uCn4omYB"
      }
    },
    {
      "cell_type": "markdown",
      "source": [
        "14. How does the “in” keyword work differently for lists and dictionaries?\n",
        "    \n",
        "    dictionaries>> it checks for keys\n",
        "     \n",
        "    lists >> it checks for values"
      ],
      "metadata": {
        "id": "Ef5O7-pComVe"
      }
    },
    {
      "cell_type": "markdown",
      "source": [
        "15. Can you modify the elements of a tuple? Explain why or why not.\n",
        "    \n",
        "    No\n",
        "    \n",
        "    As tuples are immutable their elements can not be changed."
      ],
      "metadata": {
        "id": "0jiU1piUomSG"
      }
    },
    {
      "cell_type": "markdown",
      "source": [
        "16. What is a nested dictionary, and give an example of its use case?\n",
        "    \n",
        "    A dictionary within another dictionary is called as nested dictionary.\n",
        "\n",
        "    it helps in organising the complex, hierarchical data.\n"
      ],
      "metadata": {
        "id": "JT87IN18omO5"
      }
    },
    {
      "cell_type": "markdown",
      "source": [
        "18.  In what situations are lists preferred over dictionaries?\n",
        "     \n",
        "     When their is a simple sequence and when the order matters ."
      ],
      "metadata": {
        "id": "Fdzg1nrOr_0r"
      }
    },
    {
      "cell_type": "markdown",
      "source": [
        "19. Why are dictionaries considered unordered, and how does that affect data retrieval?\n",
        "    \n",
        "    "
      ],
      "metadata": {
        "id": "FHi-RlpVr_n2"
      }
    },
    {
      "cell_type": "markdown",
      "source": [],
      "metadata": {
        "id": "azi5st0yssAy"
      }
    },
    {
      "cell_type": "markdown",
      "source": [
        "20. Explain the difference between a list and a dictionary in terms of data retrieval.\n",
        "    \n",
        "    Lists uses indices to data retrival, which is time consuming compared to dictionaries.\n",
        "\n",
        "    dictionaries uses keys for data retrival , which saves time."
      ],
      "metadata": {
        "id": "mbFf0VsRssHp"
      }
    },
    {
      "cell_type": "markdown",
      "source": [
        "PRACTICAL"
      ],
      "metadata": {
        "id": "TLf6Tsd2tSus"
      }
    },
    {
      "cell_type": "markdown",
      "source": [
        "01. Write a code to create a string with your name and print it."
      ],
      "metadata": {
        "id": "M5mJ5KlltVyi"
      }
    },
    {
      "cell_type": "code",
      "source": [
        "name = \" rachana\"\n",
        "print(name)"
      ],
      "metadata": {
        "colab": {
          "base_uri": "https://localhost:8080/"
        },
        "id": "pQ8L9fpnmLl9",
        "outputId": "452e8ffc-72e2-4dd6-97ff-fac2e353882b"
      },
      "execution_count": null,
      "outputs": [
        {
          "output_type": "stream",
          "name": "stdout",
          "text": [
            " rachana\n"
          ]
        }
      ]
    },
    {
      "cell_type": "markdown",
      "source": [
        "2.  Write a code to find the length of the string \"Hello World\""
      ],
      "metadata": {
        "id": "GaC4XXBHFpt6"
      }
    },
    {
      "cell_type": "code",
      "source": [
        "print(len(\"hello world\"))"
      ],
      "metadata": {
        "colab": {
          "base_uri": "https://localhost:8080/"
        },
        "id": "ZJNxc7ypja6a",
        "outputId": "023dce72-646c-4d90-b99c-6803db35631d"
      },
      "execution_count": null,
      "outputs": [
        {
          "output_type": "stream",
          "name": "stdout",
          "text": [
            "11\n"
          ]
        }
      ]
    },
    {
      "cell_type": "markdown",
      "source": [
        "3.  Write a code to slice the first 3 characters from the string \"Python Programming\"."
      ],
      "metadata": {
        "id": "jxDsGYllF278"
      }
    },
    {
      "cell_type": "code",
      "source": [
        "print(\"python programing\"[:3])"
      ],
      "metadata": {
        "colab": {
          "base_uri": "https://localhost:8080/"
        },
        "id": "_AfBZAZfja2u",
        "outputId": "598789cc-b0ea-4548-d607-efe8dda841a9"
      },
      "execution_count": null,
      "outputs": [
        {
          "output_type": "stream",
          "name": "stdout",
          "text": [
            "pyt\n"
          ]
        }
      ]
    },
    {
      "cell_type": "markdown",
      "source": [
        "4. Write a code to convert the string \"hello\" to uppercase."
      ],
      "metadata": {
        "id": "5oT9XkgcF9X0"
      }
    },
    {
      "cell_type": "code",
      "execution_count": null,
      "metadata": {
        "id": "VBSVqNiqjLd-"
      },
      "outputs": [],
      "source": [
        "a = (\"hello\")"
      ]
    },
    {
      "cell_type": "code",
      "source": [
        "print(a.upper())"
      ],
      "metadata": {
        "colab": {
          "base_uri": "https://localhost:8080/"
        },
        "id": "V21DAyUpGVSr",
        "outputId": "4ace865a-2ee5-48c8-9258-0bb40de3b23c"
      },
      "execution_count": null,
      "outputs": [
        {
          "output_type": "stream",
          "name": "stdout",
          "text": [
            "HELLO\n"
          ]
        }
      ]
    },
    {
      "cell_type": "markdown",
      "source": [
        "5. Write a code to replace the word \"apple\" with \"orange\" in the string \"I like apple\"\n"
      ],
      "metadata": {
        "id": "t7dC01cOGdUj"
      }
    },
    {
      "cell_type": "code",
      "source": [
        "a = \" i like apple\"\n",
        "print(\"i like apple\".replace(\"apple\", \"orange\"))"
      ],
      "metadata": {
        "colab": {
          "base_uri": "https://localhost:8080/"
        },
        "id": "2cO6IP0_GcD9",
        "outputId": "12cc7f9e-f2b4-4c16-b1e7-37eb085cb382"
      },
      "execution_count": null,
      "outputs": [
        {
          "output_type": "stream",
          "name": "stdout",
          "text": [
            "i like orange\n"
          ]
        }
      ]
    },
    {
      "cell_type": "markdown",
      "source": [
        "6.  Write a code to create a list with numbers 1 to 5 and print it\n"
      ],
      "metadata": {
        "id": "NAO_KFG3Gd1a"
      }
    },
    {
      "cell_type": "code",
      "source": [
        " a = [1, 2, 3, 4, 5]\n",
        " print(a)"
      ],
      "metadata": {
        "colab": {
          "base_uri": "https://localhost:8080/"
        },
        "id": "s4NIS10BHJVS",
        "outputId": "0ff2c92c-2d5f-4f56-d640-1de0714953e2"
      },
      "execution_count": null,
      "outputs": [
        {
          "output_type": "stream",
          "name": "stdout",
          "text": [
            "[1, 2, 3, 4, 5]\n"
          ]
        }
      ]
    },
    {
      "cell_type": "markdown",
      "source": [
        "7. Write a code to append the number 10 to the list [1, 2, 3, 4]\n"
      ],
      "metadata": {
        "id": "T-60P-oWHJv9"
      }
    },
    {
      "cell_type": "code",
      "source": [
        "a = [1, 2, 3, 4]\n",
        "a.append(10)\n",
        "print(a)"
      ],
      "metadata": {
        "colab": {
          "base_uri": "https://localhost:8080/"
        },
        "id": "1Mbfsj-mHKVz",
        "outputId": "db5375e2-0421-4e9b-f350-3dfd7750be8e"
      },
      "execution_count": null,
      "outputs": [
        {
          "output_type": "stream",
          "name": "stdout",
          "text": [
            "[1, 2, 3, 4, 10]\n"
          ]
        }
      ]
    },
    {
      "cell_type": "markdown",
      "source": [
        "8. Write a code to remove the number 3 from the list [1, 2, 3, 4, 5]"
      ],
      "metadata": {
        "id": "SHddH4hxH4Qd"
      }
    },
    {
      "cell_type": "code",
      "source": [
        "a = [1, 2, 3, 4, 5]\n",
        "a.remove(3)\n",
        "print(a)"
      ],
      "metadata": {
        "colab": {
          "base_uri": "https://localhost:8080/"
        },
        "id": "npp3BHs_HyMv",
        "outputId": "f856e8bb-b764-453e-a844-76d6cf911042"
      },
      "execution_count": null,
      "outputs": [
        {
          "output_type": "stream",
          "name": "stdout",
          "text": [
            "[1, 2, 4, 5]\n"
          ]
        }
      ]
    },
    {
      "cell_type": "markdown",
      "source": [
        "9. Write a code to access the second element in the list ['a', 'b', 'c', 'd']\n"
      ],
      "metadata": {
        "id": "SarAXkc5IQeb"
      }
    },
    {
      "cell_type": "code",
      "source": [
        "x = [\"a\", \"b\", \"c\", \"d\"]\n",
        "print(x[1])"
      ],
      "metadata": {
        "colab": {
          "base_uri": "https://localhost:8080/"
        },
        "id": "76nf4zAeIMuw",
        "outputId": "d8960834-fbe3-432a-d508-23e8ee44b866"
      },
      "execution_count": null,
      "outputs": [
        {
          "output_type": "stream",
          "name": "stdout",
          "text": [
            "b\n"
          ]
        }
      ]
    },
    {
      "cell_type": "markdown",
      "source": [
        "10. Write a code to reverse the list [10, 20, 30, 40, 50]."
      ],
      "metadata": {
        "id": "FtBcsekoIRm2"
      }
    },
    {
      "cell_type": "code",
      "source": [
        "a = [10, 20, 30, 40, 50]\n",
        "a.reverse()\n",
        "print(a)"
      ],
      "metadata": {
        "colab": {
          "base_uri": "https://localhost:8080/"
        },
        "id": "NG3hpM_vJDU0",
        "outputId": "7c91265f-6401-4dc3-cccb-acf77977ea43"
      },
      "execution_count": null,
      "outputs": [
        {
          "output_type": "stream",
          "name": "stdout",
          "text": [
            "[50, 40, 30, 20, 10]\n"
          ]
        }
      ]
    },
    {
      "cell_type": "markdown",
      "source": [
        "11. Write a code to create a tuple with the elements 100, 200, 300 and print it."
      ],
      "metadata": {
        "id": "gO4ZJuMFJcwx"
      }
    },
    {
      "cell_type": "code",
      "source": [
        "a = (100, 200, 300)\n",
        "print(a)"
      ],
      "metadata": {
        "colab": {
          "base_uri": "https://localhost:8080/"
        },
        "id": "UlQU0eNLJTL5",
        "outputId": "f2702de5-ae2e-45a9-a166-494fbb110164"
      },
      "execution_count": null,
      "outputs": [
        {
          "output_type": "stream",
          "name": "stdout",
          "text": [
            "(100, 200, 300)\n"
          ]
        }
      ]
    },
    {
      "cell_type": "markdown",
      "source": [
        "12. Write a code to access the second-to-last element of the tuple ('red', 'green', 'blue', 'yellow')."
      ],
      "metadata": {
        "id": "FYUbwnACJuFG"
      }
    },
    {
      "cell_type": "code",
      "source": [
        "a = (\"red\", \"green\", \"blue\", \"yellow\")\n",
        "print(a[-2])"
      ],
      "metadata": {
        "colab": {
          "base_uri": "https://localhost:8080/"
        },
        "id": "6HLwdaBoJpQD",
        "outputId": "5832f388-6a6d-4674-8172-554799621845"
      },
      "execution_count": null,
      "outputs": [
        {
          "output_type": "stream",
          "name": "stdout",
          "text": [
            "blue\n"
          ]
        }
      ]
    },
    {
      "cell_type": "markdown",
      "source": [
        "13. Write a code to find the minimum number in the tuple (10, 20, 5, 15)."
      ],
      "metadata": {
        "id": "yLayLf0sKTZH"
      }
    },
    {
      "cell_type": "code",
      "source": [
        "a = (10, 20, 5, 15)\n",
        "print(min(a))"
      ],
      "metadata": {
        "colab": {
          "base_uri": "https://localhost:8080/"
        },
        "id": "o-8PJdoDKFvw",
        "outputId": "d19f3278-933e-400d-cfd1-b2b239e09cd4"
      },
      "execution_count": null,
      "outputs": [
        {
          "output_type": "stream",
          "name": "stdout",
          "text": [
            "5\n"
          ]
        }
      ]
    },
    {
      "cell_type": "markdown",
      "source": [
        "14. Write a code to find the index of the element \"cat\" in the tuple ('dog', 'cat', 'rabbit')."
      ],
      "metadata": {
        "id": "Zfnlf3cJKrVW"
      }
    },
    {
      "cell_type": "code",
      "source": [
        "d = (\"dog\", \"cat\", \"rabbit\")\n",
        "print(d.index(\"cat\"))"
      ],
      "metadata": {
        "colab": {
          "base_uri": "https://localhost:8080/"
        },
        "id": "FVoPNwD_KiLf",
        "outputId": "90ae447e-0c5e-49ad-f094-eecae8f47f60"
      },
      "execution_count": null,
      "outputs": [
        {
          "output_type": "stream",
          "name": "stdout",
          "text": [
            "1\n"
          ]
        }
      ]
    },
    {
      "cell_type": "markdown",
      "source": [
        "15. Write a code to create a tuple containing three different fruits and check if \"kiwi\" is in it."
      ],
      "metadata": {
        "id": "sHuEigy6KtaC"
      }
    },
    {
      "cell_type": "code",
      "source": [
        "s = (\"apple\", \"banana\", \"mango\", \"orange\")\n",
        "print(\"kiwi\" in s)"
      ],
      "metadata": {
        "colab": {
          "base_uri": "https://localhost:8080/"
        },
        "id": "v2nNyezaLULd",
        "outputId": "8a2540e4-946a-4fd8-c240-54a6016381f5"
      },
      "execution_count": null,
      "outputs": [
        {
          "output_type": "stream",
          "name": "stdout",
          "text": [
            "False\n"
          ]
        }
      ]
    },
    {
      "cell_type": "markdown",
      "source": [
        "16. Write a code to create a set with the elements 'a', 'b', 'c' and print it."
      ],
      "metadata": {
        "id": "qoOdNvklLVCw"
      }
    },
    {
      "cell_type": "code",
      "source": [
        "s = {\"a\", \"b\", \"c\"}\n",
        "print(s)"
      ],
      "metadata": {
        "colab": {
          "base_uri": "https://localhost:8080/"
        },
        "id": "F10Cgm3BKuJo",
        "outputId": "f3b3ed4d-ef28-4511-f5a4-72676b0e9c90"
      },
      "execution_count": null,
      "outputs": [
        {
          "output_type": "stream",
          "name": "stdout",
          "text": [
            "{'a', 'c', 'b'}\n"
          ]
        }
      ]
    },
    {
      "cell_type": "markdown",
      "source": [
        "17. Write a code to clear all elements from the set {1, 2, 3, 4, 5}."
      ],
      "metadata": {
        "id": "WEo_B52wMAqb"
      }
    },
    {
      "cell_type": "code",
      "source": [
        "s = {1, 2, 3, 4, 5}\n",
        "s.clear()\n",
        "print(s)"
      ],
      "metadata": {
        "colab": {
          "base_uri": "https://localhost:8080/"
        },
        "id": "mpneaVWyL4Y4",
        "outputId": "3e099905-f90d-4d7f-be44-e78e4a282873"
      },
      "execution_count": null,
      "outputs": [
        {
          "output_type": "stream",
          "name": "stdout",
          "text": [
            "set()\n"
          ]
        }
      ]
    },
    {
      "cell_type": "markdown",
      "source": [
        "18. Write a code to remove the element 4 from the set {1, 2, 3, 4}."
      ],
      "metadata": {
        "id": "LvQPPydfMBFW"
      }
    },
    {
      "cell_type": "code",
      "source": [
        "s = {1, 2, 3, 4}\n",
        "s.remove(4)\n",
        "print(s)"
      ],
      "metadata": {
        "colab": {
          "base_uri": "https://localhost:8080/"
        },
        "id": "Uwn1UieFMi6T",
        "outputId": "58b3f26c-490f-4914-da56-79b3d027f509"
      },
      "execution_count": null,
      "outputs": [
        {
          "output_type": "stream",
          "name": "stdout",
          "text": [
            "{1, 2, 3}\n"
          ]
        }
      ]
    },
    {
      "cell_type": "markdown",
      "source": [
        "19. Write a code to find the union of two sets {1, 2, 3} and {3, 4, 5}."
      ],
      "metadata": {
        "id": "-JR6pljbMyN3"
      }
    },
    {
      "cell_type": "code",
      "source": [
        "a = {1, 2, 3}\n",
        "b = {3, 4, 5}\n",
        "print(a.union(b))"
      ],
      "metadata": {
        "colab": {
          "base_uri": "https://localhost:8080/"
        },
        "id": "kY8iTPckMtz1",
        "outputId": "6866bb1c-205d-4ceb-a179-2368948f4776"
      },
      "execution_count": null,
      "outputs": [
        {
          "output_type": "stream",
          "name": "stdout",
          "text": [
            "{1, 2, 3, 4, 5}\n"
          ]
        }
      ]
    },
    {
      "cell_type": "markdown",
      "source": [
        "20. Write a code to find the intersection of two sets {1, 2, 3} and {2, 3, 4}."
      ],
      "metadata": {
        "id": "xrK8HOovMy77"
      }
    },
    {
      "cell_type": "code",
      "source": [
        "a"
      ],
      "metadata": {
        "colab": {
          "base_uri": "https://localhost:8080/"
        },
        "id": "8GOWDtsjMzbK",
        "outputId": "7d953ac7-fa05-47b5-97bb-2bbcc1bde67a"
      },
      "execution_count": null,
      "outputs": [
        {
          "output_type": "execute_result",
          "data": {
            "text/plain": [
              "{1, 2, 3}"
            ]
          },
          "metadata": {},
          "execution_count": 41
        }
      ]
    },
    {
      "cell_type": "code",
      "source": [
        "b"
      ],
      "metadata": {
        "colab": {
          "base_uri": "https://localhost:8080/"
        },
        "id": "nB9ZjJiuNS7o",
        "outputId": "0a5a9b34-41c5-4517-aaf2-2b535e7835cd"
      },
      "execution_count": null,
      "outputs": [
        {
          "output_type": "execute_result",
          "data": {
            "text/plain": [
              "{3, 4, 5}"
            ]
          },
          "metadata": {},
          "execution_count": 42
        }
      ]
    },
    {
      "cell_type": "code",
      "source": [
        "print(a.intersection(b))"
      ],
      "metadata": {
        "colab": {
          "base_uri": "https://localhost:8080/"
        },
        "id": "iPST98rMNT9W",
        "outputId": "664537be-bc3f-42cc-d5ce-831357d5d849"
      },
      "execution_count": null,
      "outputs": [
        {
          "output_type": "stream",
          "name": "stdout",
          "text": [
            "{3}\n"
          ]
        }
      ]
    },
    {
      "cell_type": "markdown",
      "source": [
        "21. Write a code to create a dictionary with the keys \"name\", \"age\", and \"city\", and print it."
      ],
      "metadata": {
        "id": "W960MUlXNcAk"
      }
    },
    {
      "cell_type": "code",
      "source": [
        "z = {'name': 'rachana', 'age': 26, 'city': 'banglore'}\n",
        "print(z)"
      ],
      "metadata": {
        "colab": {
          "base_uri": "https://localhost:8080/"
        },
        "id": "nw8s6O6FNZhZ",
        "outputId": "a91136c4-594c-4ce7-dec3-a1d87a8379d7"
      },
      "execution_count": null,
      "outputs": [
        {
          "output_type": "stream",
          "name": "stdout",
          "text": [
            "{'name': 'rachana', 'age': 26, 'city': 'banglore'}\n"
          ]
        }
      ]
    },
    {
      "cell_type": "markdown",
      "source": [
        "22. Write a code to add a new key-value pair \"country\": \"USA\" to the dictionary {'name': 'John', 'age': 25}."
      ],
      "metadata": {
        "id": "yAi4os0FOIsI"
      }
    },
    {
      "cell_type": "code",
      "source": [
        "z"
      ],
      "metadata": {
        "colab": {
          "base_uri": "https://localhost:8080/"
        },
        "id": "mVMnOVBvN5OE",
        "outputId": "9301c9ac-43b9-4e50-d58f-f39ffb3fa55b"
      },
      "execution_count": null,
      "outputs": [
        {
          "output_type": "execute_result",
          "data": {
            "text/plain": [
              "{'name': 'rachana', 'age': 26, 'city': 'banglore'}"
            ]
          },
          "metadata": {},
          "execution_count": 49
        }
      ]
    },
    {
      "cell_type": "code",
      "source": [
        "z['counry'] = 'usa'\n",
        "print(z)"
      ],
      "metadata": {
        "colab": {
          "base_uri": "https://localhost:8080/"
        },
        "id": "lvxpdpW1OJpG",
        "outputId": "75e87dd7-4ef4-4e29-d793-db8d77725993"
      },
      "execution_count": null,
      "outputs": [
        {
          "output_type": "stream",
          "name": "stdout",
          "text": [
            "{'name': 'rachana', 'age': 26, 'city': 'banglore', 'counry': 'usa'}\n"
          ]
        }
      ]
    },
    {
      "cell_type": "markdown",
      "source": [
        "23. Write a code to access the value associated with the key \"name\" in the dictionary {'name': 'Alice', 'age': 30}."
      ],
      "metadata": {
        "id": "Avt-syO_OKBT"
      }
    },
    {
      "cell_type": "code",
      "source": [
        "d = {\"name\": \"depa\", \"age\": \"56\"}\n",
        "d[\"name\"]"
      ],
      "metadata": {
        "colab": {
          "base_uri": "https://localhost:8080/",
          "height": 36
        },
        "id": "ULtTbnJfkeOu",
        "outputId": "667a461b-3a73-4355-c074-e1a5a50a7b4a"
      },
      "execution_count": null,
      "outputs": [
        {
          "output_type": "execute_result",
          "data": {
            "text/plain": [
              "'depa'"
            ],
            "application/vnd.google.colaboratory.intrinsic+json": {
              "type": "string"
            }
          },
          "metadata": {},
          "execution_count": 43
        }
      ]
    },
    {
      "cell_type": "markdown",
      "source": [
        "24. Write a code to remove the key \"age\" from the dictionary {'name': 'Bob', 'age': 22, 'city': 'New York'}."
      ],
      "metadata": {
        "id": "0Npf4rSBPG6K"
      }
    },
    {
      "cell_type": "code",
      "source": [
        "v = {'name': 'bob', 'age': 22, 'city': 'new york'}\n",
        "del v['age']\n",
        "print(v)"
      ],
      "metadata": {
        "colab": {
          "base_uri": "https://localhost:8080/"
        },
        "id": "8bBi-2ioO-vT",
        "outputId": "f0b4edca-d8c5-4860-e397-ec33fc74a02c"
      },
      "execution_count": null,
      "outputs": [
        {
          "output_type": "stream",
          "name": "stdout",
          "text": [
            "{'name': 'bob', 'city': 'new york'}\n"
          ]
        }
      ]
    },
    {
      "cell_type": "markdown",
      "source": [
        "25. Write a code to check if the key \"city\" exists in the dictionary {'name': 'Alice', 'city': 'Paris'}."
      ],
      "metadata": {
        "id": "cmacz-d6dBVa"
      }
    },
    {
      "cell_type": "code",
      "source": [
        "d = { 'name': 'alice', 'city': 'paris'}\n",
        "print('city' in d)"
      ],
      "metadata": {
        "colab": {
          "base_uri": "https://localhost:8080/"
        },
        "id": "fLvpz3Zac99p",
        "outputId": "47b921cf-0f9a-400c-d9a3-8a01840a6dfc"
      },
      "execution_count": null,
      "outputs": [
        {
          "output_type": "stream",
          "name": "stdout",
          "text": [
            "True\n"
          ]
        }
      ]
    },
    {
      "cell_type": "markdown",
      "source": [
        "26. Write a code to create a list, a tuple, and a dictionary, and print them all."
      ],
      "metadata": {
        "id": "UAPu4VaKc9nA"
      }
    },
    {
      "cell_type": "code",
      "source": [
        "my_list = [\"f\", \"u\", \"o\", \"z\"]\n",
        "my_tuple = (\"a\", \"h\", \"m\")\n",
        "my_dict = {\"s\":60, \"v\":80, \"x\": 79}\n",
        "print(my_list)\n",
        "print(my_tuple)\n",
        "print(my_dict)\n"
      ],
      "metadata": {
        "colab": {
          "base_uri": "https://localhost:8080/"
        },
        "id": "yjCq7mEwdjdj",
        "outputId": "80116d6a-b133-4a0f-a8ed-938f49aee407"
      },
      "execution_count": null,
      "outputs": [
        {
          "output_type": "stream",
          "name": "stdout",
          "text": [
            "['f', 'u', 'o', 'z']\n",
            "('a', 'h', 'm')\n",
            "{'s': 60, 'v': 80, 'x': 79}\n"
          ]
        }
      ]
    },
    {
      "cell_type": "markdown",
      "source": [
        "27. Write a code to create a list of 5 random numbers between 1 and 100, sort it in ascending order, and print the\n"
      ],
      "metadata": {
        "id": "Jq6T1-_sfBwB"
      }
    },
    {
      "cell_type": "code",
      "source": [
        "l = [40, 68, 23, 20, 99]\n",
        "l == l.sort()\n",
        "print(l)"
      ],
      "metadata": {
        "colab": {
          "base_uri": "https://localhost:8080/"
        },
        "id": "nzru3I3ld7Qu",
        "outputId": "9a6f94a1-5e0b-443e-88a7-bd156aad83a8"
      },
      "execution_count": null,
      "outputs": [
        {
          "output_type": "stream",
          "name": "stdout",
          "text": [
            "[20, 23, 40, 68, 99]\n"
          ]
        }
      ]
    },
    {
      "cell_type": "markdown",
      "source": [
        "28. Write a code to create a list with strings and print the element at the third index."
      ],
      "metadata": {
        "id": "xjF9pQm2fzSy"
      }
    },
    {
      "cell_type": "code",
      "source": [
        "f = [\"apple\", \"ball\", \"bus\", \" car\", \"train\"]\n",
        "print(f[3])"
      ],
      "metadata": {
        "colab": {
          "base_uri": "https://localhost:8080/"
        },
        "id": "-sCdo6LDfhMt",
        "outputId": "28c03423-6100-4e24-847c-5aef3f2bc290"
      },
      "execution_count": null,
      "outputs": [
        {
          "output_type": "stream",
          "name": "stdout",
          "text": [
            " car\n"
          ]
        }
      ]
    },
    {
      "cell_type": "markdown",
      "source": [
        "29. Write a code to combine two dictionaries into one and print the result."
      ],
      "metadata": {
        "id": "mwH5Iw0SgO-R"
      }
    },
    {
      "cell_type": "code",
      "source": [
        "d1 = {\"name\": \"deepa\", \"class\": \"4\"}\n",
        "d2 = {\"adress\": \"udupi\", \"contact\": \"56744\"}\n",
        "d1.update(d2)\n",
        "print(d1)"
      ],
      "metadata": {
        "colab": {
          "base_uri": "https://localhost:8080/"
        },
        "id": "dmE_sB-4gN0d",
        "outputId": "ab4382e6-7385-408e-94e0-94ebd8872784"
      },
      "execution_count": null,
      "outputs": [
        {
          "output_type": "stream",
          "name": "stdout",
          "text": [
            "{'name': 'deepa', 'class': '4', 'adress': 'udupi', 'contact': '56744'}\n"
          ]
        }
      ]
    },
    {
      "cell_type": "markdown",
      "source": [
        "30. Write a code to convert a list of strings into a set."
      ],
      "metadata": {
        "id": "R4T__h1ah1kR"
      }
    },
    {
      "cell_type": "code",
      "source": [
        "l = [\"a\", \"b\", \"c\"]\n",
        "g = set(l)\n",
        "print(g)"
      ],
      "metadata": {
        "colab": {
          "base_uri": "https://localhost:8080/"
        },
        "id": "C4VvdLZ7h6gd",
        "outputId": "5483f380-34f7-4402-dab2-a60ec859574a"
      },
      "execution_count": null,
      "outputs": [
        {
          "output_type": "stream",
          "name": "stdout",
          "text": [
            "{'b', 'a', 'c'}\n"
          ]
        }
      ]
    },
    {
      "cell_type": "code",
      "source": [],
      "metadata": {
        "id": "Vd7d9v4YiNuc"
      },
      "execution_count": null,
      "outputs": []
    }
  ]
}